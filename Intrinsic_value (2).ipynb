{
  "nbformat": 4,
  "nbformat_minor": 0,
  "metadata": {
    "colab": {
      "provenance": []
    },
    "kernelspec": {
      "name": "python3",
      "display_name": "Python 3"
    },
    "language_info": {
      "name": "python"
    }
  },
  "cells": [
    {
      "cell_type": "code",
      "execution_count": null,
      "metadata": {
        "id": "lXXj5qjV3bul"
      },
      "outputs": [],
      "source": [
        "## Intrinsic value calculation\n"
      ]
    },
    {
      "cell_type": "code",
      "source": [
        "import yfinance as yf\n"
      ],
      "metadata": {
        "id": "QGF0ljyA3m7o"
      },
      "execution_count": null,
      "outputs": []
    },
    {
      "cell_type": "code",
      "source": [
        "\n",
        "aapl = yf.Ticker(\"aapl\")\n",
        "outstandingshares = aapl.info['sharesOutstanding']\n",
        "\n"
      ],
      "metadata": {
        "id": "N-fxjmFe4cMH"
      },
      "execution_count": null,
      "outputs": []
    },
    {
      "cell_type": "code",
      "source": [
        "#Assumption\n",
        "required_rate = 0.07\n",
        "perpetual_rate = 0.02\n",
        "cashflowgrowthrate = 0.03"
      ],
      "metadata": {
        "id": "v8PLyqKl5tKu"
      },
      "execution_count": null,
      "outputs": []
    },
    {
      "cell_type": "code",
      "source": [
        "years = [1,2,3,4]"
      ],
      "metadata": {
        "id": "5Q7xNqYL6eZ8"
      },
      "execution_count": null,
      "outputs": []
    },
    {
      "cell_type": "code",
      "source": [
        "freecashflow = [50803000 , 64121000 , 58896000 , 73365000]\n"
      ],
      "metadata": {
        "id": "dIbF6fLH6n2c"
      },
      "execution_count": null,
      "outputs": []
    },
    {
      "cell_type": "code",
      "source": [
        "futurefreecashflow = []\n",
        "discountfactors = []\n",
        "discountedfuturecashflow = []"
      ],
      "metadata": {
        "id": "CrKObQUZ73eM"
      },
      "execution_count": null,
      "outputs": []
    },
    {
      "cell_type": "code",
      "source": [
        "terminalvalue = freecashflow[-1] * (1+ perpetual_rate)/(required_rate - perpetual_rate)\n",
        "\n",
        "print(terminalvalue)"
      ],
      "metadata": {
        "colab": {
          "base_uri": "https://localhost:8080/"
        },
        "id": "2jjRYFV_8TwT",
        "outputId": "257782d9-39f8-4038-c663-2b32c8aaeaf4"
      },
      "execution_count": null,
      "outputs": [
        {
          "output_type": "stream",
          "name": "stdout",
          "text": [
            "1496646000.0\n"
          ]
        }
      ]
    },
    {
      "cell_type": "code",
      "source": [
        "for year in years:\n",
        "    cashflow = freecashflow[-1] * (1+cashflowgrowthrate)**year\n",
        "    futurefreecashflow.append(cashflow)\n",
        "    discountfactors.append((1+ required_rate)**year)\n",
        "\n",
        "    print(discountfactors)\n",
        "    print(futurefreecashflow)"
      ],
      "metadata": {
        "colab": {
          "base_uri": "https://localhost:8080/"
        },
        "id": "kxUx3lX0-QjM",
        "outputId": "16ec16a5-3a6c-4948-cdbb-523450739bb5"
      },
      "execution_count": null,
      "outputs": [
        {
          "output_type": "stream",
          "name": "stdout",
          "text": [
            "[1.07]\n",
            "[75565950.0]\n",
            "[1.07, 1.1449]\n",
            "[75565950.0, 77832928.5]\n",
            "[1.07, 1.1449, 1.225043]\n",
            "[75565950.0, 77832928.5, 80167916.355]\n",
            "[1.07, 1.1449, 1.225043, 1.3107960100000002]\n",
            "[75565950.0, 77832928.5, 80167916.355, 82572953.84565002]\n"
          ]
        }
      ]
    },
    {
      "cell_type": "code",
      "source": [
        "for i in range(len(years)):\n",
        "    discountedfuturecashflow.append(futurefreecashflow[i]/discountfactors[i])\n",
        "\n",
        "    print(discountedfuturecashflow)"
      ],
      "metadata": {
        "colab": {
          "base_uri": "https://localhost:8080/"
        },
        "id": "jYo3Q_c7EcEC",
        "outputId": "3e4fd158-db51-4800-a296-e3dbab3e9c34"
      },
      "execution_count": null,
      "outputs": [
        {
          "output_type": "stream",
          "name": "stdout",
          "text": [
            "[70622383.17757009]\n",
            "[70622383.17757009, 67982294.08681981]\n",
            "[70622383.17757009, 67982294.08681981, 65440899.91534991]\n",
            "[70622383.17757009, 67982294.08681981, 65440899.91534991, 62994511.133467674]\n"
          ]
        }
      ]
    },
    {
      "cell_type": "code",
      "source": [
        "discountedterminalvalue = terminalvalue/(1+required_rate)**4\n",
        "discountedfuturecashflow.append(discountedterminalvalue)\n",
        "\n"
      ],
      "metadata": {
        "id": "6tbzabxIGP4h"
      },
      "execution_count": null,
      "outputs": []
    },
    {
      "cell_type": "code",
      "source": [
        "todaysvalue = sum(discountedfuturecashflow)\n",
        "fairvalue = todaysvalue*1000/ outstandingshares\n",
        "\n",
        "print(\"The fair value of AAPL is ${}\".format(round(fairvalue,2)))"
      ],
      "metadata": {
        "colab": {
          "base_uri": "https://localhost:8080/"
        },
        "id": "W1cynFJCGuhg",
        "outputId": "c44eff9a-abde-4009-8da4-4dc5e57f3233"
      },
      "execution_count": null,
      "outputs": [
        {
          "output_type": "stream",
          "name": "stdout",
          "text": [
            "The fair value of AAPL is $93.2\n"
          ]
        }
      ]
    }
  ]
}